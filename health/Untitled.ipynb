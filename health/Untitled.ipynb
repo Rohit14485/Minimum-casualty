{
 "cells": [
  {
   "cell_type": "code",
   "execution_count": 24,
   "id": "5b715c1f-9e1b-4c73-928a-09a0d84bbbcd",
   "metadata": {},
   "outputs": [],
   "source": [
    "from mpl_toolkits.mplot3d import Axes3D\n",
    "from sklearn.preprocessing import StandardScaler\n",
    "import matplotlib.pyplot as plt\n",
    "from tkinter import *\n",
    "import numpy as np\n",
    "import pandas as pd\n",
    "import os"
   ]
  },
  {
   "cell_type": "code",
   "execution_count": 25,
   "id": "0d74dc3d-f6a9-4703-b43e-ae108b7bab26",
   "metadata": {},
   "outputs": [],
   "source": [
    "DF= pd.read_csv('training.csv')"
   ]
  },
  {
   "cell_type": "code",
   "execution_count": 26,
   "id": "755014ea-e0f1-431e-9d47-92e551e15abc",
   "metadata": {},
   "outputs": [
    {
     "name": "stdout",
     "output_type": "stream",
     "text": [
      "      itching  skin_rash  nodal_skin_eruptions  continuous_sneezing  \\\n",
      "0           1          1                     1                    0   \n",
      "1           0          1                     1                    0   \n",
      "2           1          0                     1                    0   \n",
      "3           1          1                     0                    0   \n",
      "4           1          1                     1                    0   \n",
      "...       ...        ...                   ...                  ...   \n",
      "4915        0          0                     0                    0   \n",
      "4916        0          1                     0                    0   \n",
      "4917        0          0                     0                    0   \n",
      "4918        0          1                     0                    0   \n",
      "4919        0          1                     0                    0   \n",
      "\n",
      "      shivering  chills  joint_pain  stomach_pain  acidity  ulcers_on_tongue  \\\n",
      "0             0       0           0             0        0                 0   \n",
      "1             0       0           0             0        0                 0   \n",
      "2             0       0           0             0        0                 0   \n",
      "3             0       0           0             0        0                 0   \n",
      "4             0       0           0             0        0                 0   \n",
      "...         ...     ...         ...           ...      ...               ...   \n",
      "4915          0       0           0             0        0                 0   \n",
      "4916          0       0           0             0        0                 0   \n",
      "4917          0       0           0             0        0                 0   \n",
      "4918          0       0           1             0        0                 0   \n",
      "4919          0       0           0             0        0                 0   \n",
      "\n",
      "      ...  blackheads  scurring  skin_peeling  silver_like_dusting  \\\n",
      "0     ...           0         0             0                    0   \n",
      "1     ...           0         0             0                    0   \n",
      "2     ...           0         0             0                    0   \n",
      "3     ...           0         0             0                    0   \n",
      "4     ...           0         0             0                    0   \n",
      "...   ...         ...       ...           ...                  ...   \n",
      "4915  ...           0         0             0                    0   \n",
      "4916  ...           1         1             0                    0   \n",
      "4917  ...           0         0             0                    0   \n",
      "4918  ...           0         0             1                    1   \n",
      "4919  ...           0         0             0                    0   \n",
      "\n",
      "      small_dents_in_nails  inflammatory_nails  blister  red_sore_around_nose  \\\n",
      "0                        0                   0        0                     0   \n",
      "1                        0                   0        0                     0   \n",
      "2                        0                   0        0                     0   \n",
      "3                        0                   0        0                     0   \n",
      "4                        0                   0        0                     0   \n",
      "...                    ...                 ...      ...                   ...   \n",
      "4915                     0                   0        0                     0   \n",
      "4916                     0                   0        0                     0   \n",
      "4917                     0                   0        0                     0   \n",
      "4918                     1                   1        0                     0   \n",
      "4919                     0                   0        1                     1   \n",
      "\n",
      "      yellow_crust_ooze                                prognosis  \n",
      "0                     0                         Fungal infection  \n",
      "1                     0                         Fungal infection  \n",
      "2                     0                         Fungal infection  \n",
      "3                     0                         Fungal infection  \n",
      "4                     0                         Fungal infection  \n",
      "...                 ...                                      ...  \n",
      "4915                  0  (vertigo) Paroymsal  Positional Vertigo  \n",
      "4916                  0                                     Acne  \n",
      "4917                  0                  Urinary tract infection  \n",
      "4918                  0                                Psoriasis  \n",
      "4919                  1                                 Impetigo  \n",
      "\n",
      "[4920 rows x 133 columns]\n"
     ]
    }
   ],
   "source": [
    "print(DF)"
   ]
  },
  {
   "cell_type": "code",
   "execution_count": 27,
   "id": "9951326c-e8f2-47b5-b232-13eb083e7830",
   "metadata": {},
   "outputs": [],
   "source": [
    "\n",
    "\n",
    "mask = DF[DF['prognosis'].str.contains('Fungal infection|Hypertension |GERD|Gastroenteritis|Jaundice|Malaria|Dengue|Typhoid|Urinary tract infection', case=False, na=False)]\n"
   ]
  },
  {
   "cell_type": "code",
   "execution_count": 28,
   "id": "d31c3743-65d6-4262-91de-6e12e47daae4",
   "metadata": {},
   "outputs": [
    {
     "data": {
      "text/plain": [
       "pandas.core.frame.DataFrame"
      ]
     },
     "execution_count": 28,
     "metadata": {},
     "output_type": "execute_result"
    }
   ],
   "source": [
    "type(mask)"
   ]
  },
  {
   "cell_type": "code",
   "execution_count": 29,
   "id": "889d7ce4-6471-4f48-87d8-ad3f87f1ec0a",
   "metadata": {},
   "outputs": [],
   "source": [
    "mask.to_csv('my_dataset.csv', index=False)"
   ]
  },
  {
   "cell_type": "code",
   "execution_count": 30,
   "id": "5c3e27e5-d08a-4849-8763-de352ee6e25d",
   "metadata": {},
   "outputs": [],
   "source": [
    "DF= pd.read_csv('my_dataset.csv')\n"
   ]
  },
  {
   "cell_type": "code",
   "execution_count": 31,
   "id": "9305402a-ac1d-4c60-a305-9f8002753ad3",
   "metadata": {},
   "outputs": [],
   "source": [
    "DF.replace({'prognosis':{'Fungal infection':0,'Hypertension ':1,'GERD':2,'Gastroenteritis':3,'Jaundice':4,'Malaria':5,'Dengue':6,'Typhoid':7,'Urinary tract infection':8}},inplace=True)"
   ]
  },
  {
   "cell_type": "code",
   "execution_count": 32,
   "id": "2a5526df-c056-43ad-afaa-5bdb15775457",
   "metadata": {},
   "outputs": [
    {
     "data": {
      "text/html": [
       "<div>\n",
       "<style scoped>\n",
       "    .dataframe tbody tr th:only-of-type {\n",
       "        vertical-align: middle;\n",
       "    }\n",
       "\n",
       "    .dataframe tbody tr th {\n",
       "        vertical-align: top;\n",
       "    }\n",
       "\n",
       "    .dataframe thead th {\n",
       "        text-align: right;\n",
       "    }\n",
       "</style>\n",
       "<table border=\"1\" class=\"dataframe\">\n",
       "  <thead>\n",
       "    <tr style=\"text-align: right;\">\n",
       "      <th></th>\n",
       "      <th>itching</th>\n",
       "      <th>skin_rash</th>\n",
       "      <th>nodal_skin_eruptions</th>\n",
       "      <th>continuous_sneezing</th>\n",
       "      <th>shivering</th>\n",
       "      <th>chills</th>\n",
       "      <th>joint_pain</th>\n",
       "      <th>stomach_pain</th>\n",
       "      <th>acidity</th>\n",
       "      <th>ulcers_on_tongue</th>\n",
       "      <th>...</th>\n",
       "      <th>blackheads</th>\n",
       "      <th>scurring</th>\n",
       "      <th>skin_peeling</th>\n",
       "      <th>silver_like_dusting</th>\n",
       "      <th>small_dents_in_nails</th>\n",
       "      <th>inflammatory_nails</th>\n",
       "      <th>blister</th>\n",
       "      <th>red_sore_around_nose</th>\n",
       "      <th>yellow_crust_ooze</th>\n",
       "      <th>prognosis</th>\n",
       "    </tr>\n",
       "  </thead>\n",
       "  <tbody>\n",
       "    <tr>\n",
       "      <th>0</th>\n",
       "      <td>1</td>\n",
       "      <td>1</td>\n",
       "      <td>1</td>\n",
       "      <td>0</td>\n",
       "      <td>0</td>\n",
       "      <td>0</td>\n",
       "      <td>0</td>\n",
       "      <td>0</td>\n",
       "      <td>0</td>\n",
       "      <td>0</td>\n",
       "      <td>...</td>\n",
       "      <td>0</td>\n",
       "      <td>0</td>\n",
       "      <td>0</td>\n",
       "      <td>0</td>\n",
       "      <td>0</td>\n",
       "      <td>0</td>\n",
       "      <td>0</td>\n",
       "      <td>0</td>\n",
       "      <td>0</td>\n",
       "      <td>0</td>\n",
       "    </tr>\n",
       "    <tr>\n",
       "      <th>1</th>\n",
       "      <td>0</td>\n",
       "      <td>1</td>\n",
       "      <td>1</td>\n",
       "      <td>0</td>\n",
       "      <td>0</td>\n",
       "      <td>0</td>\n",
       "      <td>0</td>\n",
       "      <td>0</td>\n",
       "      <td>0</td>\n",
       "      <td>0</td>\n",
       "      <td>...</td>\n",
       "      <td>0</td>\n",
       "      <td>0</td>\n",
       "      <td>0</td>\n",
       "      <td>0</td>\n",
       "      <td>0</td>\n",
       "      <td>0</td>\n",
       "      <td>0</td>\n",
       "      <td>0</td>\n",
       "      <td>0</td>\n",
       "      <td>0</td>\n",
       "    </tr>\n",
       "    <tr>\n",
       "      <th>2</th>\n",
       "      <td>1</td>\n",
       "      <td>0</td>\n",
       "      <td>1</td>\n",
       "      <td>0</td>\n",
       "      <td>0</td>\n",
       "      <td>0</td>\n",
       "      <td>0</td>\n",
       "      <td>0</td>\n",
       "      <td>0</td>\n",
       "      <td>0</td>\n",
       "      <td>...</td>\n",
       "      <td>0</td>\n",
       "      <td>0</td>\n",
       "      <td>0</td>\n",
       "      <td>0</td>\n",
       "      <td>0</td>\n",
       "      <td>0</td>\n",
       "      <td>0</td>\n",
       "      <td>0</td>\n",
       "      <td>0</td>\n",
       "      <td>0</td>\n",
       "    </tr>\n",
       "    <tr>\n",
       "      <th>3</th>\n",
       "      <td>1</td>\n",
       "      <td>1</td>\n",
       "      <td>0</td>\n",
       "      <td>0</td>\n",
       "      <td>0</td>\n",
       "      <td>0</td>\n",
       "      <td>0</td>\n",
       "      <td>0</td>\n",
       "      <td>0</td>\n",
       "      <td>0</td>\n",
       "      <td>...</td>\n",
       "      <td>0</td>\n",
       "      <td>0</td>\n",
       "      <td>0</td>\n",
       "      <td>0</td>\n",
       "      <td>0</td>\n",
       "      <td>0</td>\n",
       "      <td>0</td>\n",
       "      <td>0</td>\n",
       "      <td>0</td>\n",
       "      <td>0</td>\n",
       "    </tr>\n",
       "    <tr>\n",
       "      <th>4</th>\n",
       "      <td>1</td>\n",
       "      <td>1</td>\n",
       "      <td>1</td>\n",
       "      <td>0</td>\n",
       "      <td>0</td>\n",
       "      <td>0</td>\n",
       "      <td>0</td>\n",
       "      <td>0</td>\n",
       "      <td>0</td>\n",
       "      <td>0</td>\n",
       "      <td>...</td>\n",
       "      <td>0</td>\n",
       "      <td>0</td>\n",
       "      <td>0</td>\n",
       "      <td>0</td>\n",
       "      <td>0</td>\n",
       "      <td>0</td>\n",
       "      <td>0</td>\n",
       "      <td>0</td>\n",
       "      <td>0</td>\n",
       "      <td>0</td>\n",
       "    </tr>\n",
       "  </tbody>\n",
       "</table>\n",
       "<p>5 rows × 133 columns</p>\n",
       "</div>"
      ],
      "text/plain": [
       "   itching  skin_rash  nodal_skin_eruptions  continuous_sneezing  shivering  \\\n",
       "0        1          1                     1                    0          0   \n",
       "1        0          1                     1                    0          0   \n",
       "2        1          0                     1                    0          0   \n",
       "3        1          1                     0                    0          0   \n",
       "4        1          1                     1                    0          0   \n",
       "\n",
       "   chills  joint_pain  stomach_pain  acidity  ulcers_on_tongue  ...  \\\n",
       "0       0           0             0        0                 0  ...   \n",
       "1       0           0             0        0                 0  ...   \n",
       "2       0           0             0        0                 0  ...   \n",
       "3       0           0             0        0                 0  ...   \n",
       "4       0           0             0        0                 0  ...   \n",
       "\n",
       "   blackheads  scurring  skin_peeling  silver_like_dusting  \\\n",
       "0           0         0             0                    0   \n",
       "1           0         0             0                    0   \n",
       "2           0         0             0                    0   \n",
       "3           0         0             0                    0   \n",
       "4           0         0             0                    0   \n",
       "\n",
       "   small_dents_in_nails  inflammatory_nails  blister  red_sore_around_nose  \\\n",
       "0                     0                   0        0                     0   \n",
       "1                     0                   0        0                     0   \n",
       "2                     0                   0        0                     0   \n",
       "3                     0                   0        0                     0   \n",
       "4                     0                   0        0                     0   \n",
       "\n",
       "   yellow_crust_ooze  prognosis  \n",
       "0                  0          0  \n",
       "1                  0          0  \n",
       "2                  0          0  \n",
       "3                  0          0  \n",
       "4                  0          0  \n",
       "\n",
       "[5 rows x 133 columns]"
      ]
     },
     "execution_count": 32,
     "metadata": {},
     "output_type": "execute_result"
    }
   ],
   "source": [
    "DF.head()"
   ]
  },
  {
   "cell_type": "code",
   "execution_count": 33,
   "id": "abce2398-acc4-477f-a578-6569243f9fa8",
   "metadata": {},
   "outputs": [],
   "source": [
    "l1=['back_pain','constipation','abdominal_pain','diarrhoea','mild_fever','yellow_urine',\n",
    "    'yellowing_of_eyes','acute_liver_failure','fluid_overload','swelling_of_stomach',\n",
    "    'swelled_lymph_nodes','malaise','blurred_and_distorted_vision','phlegm','throat_irritation',\n",
    "    'redness_of_eyes','sinus_pressure','runny_nose','congestion','chest_pain','weakness_in_limbs',\n",
    "    'fast_heart_rate','pain_during_bowel_movements','pain_in_anal_region','bloody_stool',\n",
    "    'irritation_in_anus','neck_pain','dizziness','cramps','bruising','obesity','swollen_legs',\n",
    "    'swollen_blood_vessels','puffy_face_and_eyes','enlarged_thyroid','brittle_nails',\n",
    "    'swollen_extremeties','excessive_hunger','extra_marital_contacts','drying_and_tingling_lips',\n",
    "    'slurred_speech','knee_pain','hip_joint_pain','muscle_weakness','stiff_neck','swelling_joints',\n",
    "    'movement_stiffness','spinning_movements','loss_of_balance','unsteadiness',\n",
    "    'weakness_of_one_body_side','loss_of_smell','bladder_discomfort','foul_smell_of urine',\n",
    "    'continuous_feel_of_urine','passage_of_gases','internal_itching','toxic_look_(typhos)',\n",
    "    'depression','irritability','muscle_pain','altered_sensorium','red_spots_over_body','belly_pain',\n",
    "    'abnormal_menstruation','dischromic _patches','watering_from_eyes','increased_appetite','polyuria','family_history','mucoid_sputum',\n",
    "    'rusty_sputum','lack_of_concentration','visual_disturbances','receiving_blood_transfusion',\n",
    "    'receiving_unsterile_injections','coma','stomach_bleeding','distention_of_abdomen',\n",
    "    'history_of_alcohol_consumption','fluid_overload','blood_in_sputum','prominent_veins_on_calf',\n",
    "    'palpitations','painful_walking','pus_filled_pimples','blackheads','scurring','skin_peeling',\n",
    "    'silver_like_dusting','small_dents_in_nails','inflammatory_nails','blister','red_sore_around_nose',\n",
    "    'yellow_crust_ooze']"
   ]
  },
  {
   "cell_type": "code",
   "execution_count": 34,
   "metadata": {},
   "outputs": [
    {
     "name": "stdout",
     "output_type": "stream",
     "text": [
      "95\n"
     ]
    }
   ],
   "source": [
    "print(len(l1))"
   ]
  },
  {
   "cell_type": "code",
   "execution_count": 35,
   "id": "6be17740-eb2c-4f08-995a-8bd60d8c936c",
   "metadata": {},
   "outputs": [
    {
     "name": "stdout",
     "output_type": "stream",
     "text": [
      "[0, 0, 0, 0, 0, 0, 0, 0, 0, 0, 0, 0, 0, 0, 0, 0, 0, 0, 0, 0, 0, 0, 0, 0, 0, 0, 0, 0, 0, 0, 0, 0, 0, 0, 0, 0, 0, 0, 0, 0, 0, 0, 0, 0, 0, 0, 0, 0, 0, 0, 0, 0, 0, 0, 0, 0, 0, 0, 0, 0, 0, 0, 0, 0, 0, 0, 0, 0, 0, 0, 0, 0, 0, 0, 0, 0, 0, 0, 0, 0, 0, 0, 0, 0, 0, 0, 0, 0, 0, 0, 0, 0, 0, 0, 0]\n"
     ]
    }
   ],
   "source": [
    "l2=[]\n",
    "for i in range(0,len(l1)):\n",
    "    l2.append(0)\n",
    "print(l2)"
   ]
  },
  {
   "cell_type": "code",
   "execution_count": 36,
   "id": "aa48600e-9caf-4cdf-8ed1-d01416507764",
   "metadata": {},
   "outputs": [
    {
     "name": "stdout",
     "output_type": "stream",
     "text": [
      "      back_pain  constipation  abdominal_pain  diarrhoea  mild_fever  \\\n",
      "0             0             0               0          0           0   \n",
      "1             0             0               0          0           0   \n",
      "2             0             0               0          0           0   \n",
      "3             0             0               0          0           0   \n",
      "4             0             0               0          0           0   \n",
      "...         ...           ...             ...        ...         ...   \n",
      "1075          0             0               1          0           0   \n",
      "1076          0             0               0          1           0   \n",
      "1077          1             0               0          0           0   \n",
      "1078          0             1               1          1           0   \n",
      "1079          0             0               0          0           0   \n",
      "\n",
      "      yellow_urine  yellowing_of_eyes  acute_liver_failure  fluid_overload  \\\n",
      "0                0                  0                    0               0   \n",
      "1                0                  0                    0               0   \n",
      "2                0                  0                    0               0   \n",
      "3                0                  0                    0               0   \n",
      "4                0                  0                    0               0   \n",
      "...            ...                ...                  ...             ...   \n",
      "1075             0                  0                    0               0   \n",
      "1076             0                  0                    0               0   \n",
      "1077             0                  0                    0               0   \n",
      "1078             0                  0                    0               0   \n",
      "1079             0                  0                    0               0   \n",
      "\n",
      "      swelling_of_stomach  ...  pus_filled_pimples  blackheads  scurring  \\\n",
      "0                       0  ...                   0           0         0   \n",
      "1                       0  ...                   0           0         0   \n",
      "2                       0  ...                   0           0         0   \n",
      "3                       0  ...                   0           0         0   \n",
      "4                       0  ...                   0           0         0   \n",
      "...                   ...  ...                 ...         ...       ...   \n",
      "1075                    0  ...                   0           0         0   \n",
      "1076                    0  ...                   0           0         0   \n",
      "1077                    0  ...                   0           0         0   \n",
      "1078                    0  ...                   0           0         0   \n",
      "1079                    0  ...                   0           0         0   \n",
      "\n",
      "      skin_peeling  silver_like_dusting  small_dents_in_nails  \\\n",
      "0                0                    0                     0   \n",
      "1                0                    0                     0   \n",
      "2                0                    0                     0   \n",
      "3                0                    0                     0   \n",
      "4                0                    0                     0   \n",
      "...            ...                  ...                   ...   \n",
      "1075             0                    0                     0   \n",
      "1076             0                    0                     0   \n",
      "1077             0                    0                     0   \n",
      "1078             0                    0                     0   \n",
      "1079             0                    0                     0   \n",
      "\n",
      "      inflammatory_nails  blister  red_sore_around_nose  yellow_crust_ooze  \n",
      "0                      0        0                     0                  0  \n",
      "1                      0        0                     0                  0  \n",
      "2                      0        0                     0                  0  \n",
      "3                      0        0                     0                  0  \n",
      "4                      0        0                     0                  0  \n",
      "...                  ...      ...                   ...                ...  \n",
      "1075                   0        0                     0                  0  \n",
      "1076                   0        0                     0                  0  \n",
      "1077                   0        0                     0                  0  \n",
      "1078                   0        0                     0                  0  \n",
      "1079                   0        0                     0                  0  \n",
      "\n",
      "[1080 rows x 95 columns]\n"
     ]
    },
    {
     "data": {
      "text/plain": [
       "pandas.core.frame.DataFrame"
      ]
     },
     "execution_count": 36,
     "metadata": {},
     "output_type": "execute_result"
    }
   ],
   "source": [
    "X= DF[l1]\n",
    "y = DF[[\"prognosis\"]]\n",
    "np.ravel(y)\n",
    "print(X)\n",
    "type(X)"
   ]
  },
  {
   "cell_type": "code",
   "execution_count": 37,
   "id": "c3da91f0-20ac-4b38-9caf-c526217de081",
   "metadata": {},
   "outputs": [
    {
     "name": "stdout",
     "output_type": "stream",
     "text": [
      "      prognosis\n",
      "0             0\n",
      "1             0\n",
      "2             0\n",
      "3             0\n",
      "4             0\n",
      "...         ...\n",
      "1075          4\n",
      "1076          5\n",
      "1077          6\n",
      "1078          7\n",
      "1079          8\n",
      "\n",
      "[1080 rows x 1 columns]\n",
      "[0 2 3 1 4 5 6 7 8]\n"
     ]
    }
   ],
   "source": [
    "print(y)\n",
    "\n",
    "type(y)\n",
    "unique_labels = DF['prognosis'].unique()\n",
    "print(unique_labels)"
   ]
  },
  {
   "cell_type": "code",
   "execution_count": 38,
   "id": "761e930a-524b-46fb-b2aa-13338212612f",
   "metadata": {},
   "outputs": [
    {
     "name": "stdout",
     "output_type": "stream",
     "text": [
      "      back_pain  constipation  abdominal_pain  diarrhoea  mild_fever  \\\n",
      "0             0             0               0          0           0   \n",
      "1             0             0               0          0           0   \n",
      "2             0             0               0          0           0   \n",
      "3             0             0               0          0           0   \n",
      "4             0             0               0          0           0   \n",
      "...         ...           ...             ...        ...         ...   \n",
      "1075          0             0               1          0           0   \n",
      "1076          0             0               0          1           0   \n",
      "1077          1             0               0          0           0   \n",
      "1078          0             1               1          1           0   \n",
      "1079          0             0               0          0           0   \n",
      "\n",
      "      yellow_urine  yellowing_of_eyes  acute_liver_failure  fluid_overload  \\\n",
      "0                0                  0                    0               0   \n",
      "1                0                  0                    0               0   \n",
      "2                0                  0                    0               0   \n",
      "3                0                  0                    0               0   \n",
      "4                0                  0                    0               0   \n",
      "...            ...                ...                  ...             ...   \n",
      "1075             0                  0                    0               0   \n",
      "1076             0                  0                    0               0   \n",
      "1077             0                  0                    0               0   \n",
      "1078             0                  0                    0               0   \n",
      "1079             0                  0                    0               0   \n",
      "\n",
      "      swelling_of_stomach  ...  pus_filled_pimples  blackheads  scurring  \\\n",
      "0                       0  ...                   0           0         0   \n",
      "1                       0  ...                   0           0         0   \n",
      "2                       0  ...                   0           0         0   \n",
      "3                       0  ...                   0           0         0   \n",
      "4                       0  ...                   0           0         0   \n",
      "...                   ...  ...                 ...         ...       ...   \n",
      "1075                    0  ...                   0           0         0   \n",
      "1076                    0  ...                   0           0         0   \n",
      "1077                    0  ...                   0           0         0   \n",
      "1078                    0  ...                   0           0         0   \n",
      "1079                    0  ...                   0           0         0   \n",
      "\n",
      "      skin_peeling  silver_like_dusting  small_dents_in_nails  \\\n",
      "0                0                    0                     0   \n",
      "1                0                    0                     0   \n",
      "2                0                    0                     0   \n",
      "3                0                    0                     0   \n",
      "4                0                    0                     0   \n",
      "...            ...                  ...                   ...   \n",
      "1075             0                    0                     0   \n",
      "1076             0                    0                     0   \n",
      "1077             0                    0                     0   \n",
      "1078             0                    0                     0   \n",
      "1079             0                    0                     0   \n",
      "\n",
      "      inflammatory_nails  blister  red_sore_around_nose  yellow_crust_ooze  \n",
      "0                      0        0                     0                  0  \n",
      "1                      0        0                     0                  0  \n",
      "2                      0        0                     0                  0  \n",
      "3                      0        0                     0                  0  \n",
      "4                      0        0                     0                  0  \n",
      "...                  ...      ...                   ...                ...  \n",
      "1075                   0        0                     0                  0  \n",
      "1076                   0        0                     0                  0  \n",
      "1077                   0        0                     0                  0  \n",
      "1078                   0        0                     0                  0  \n",
      "1079                   0        0                     0                  0  \n",
      "\n",
      "[1080 rows x 95 columns]\n"
     ]
    }
   ],
   "source": [
    "tr= pd.read_csv('my_dataset.csv')\n",
    "tr.replace({'prognosis':{'Fungal infection':0,'Hypertension ':1,'GERD':2,'Gastroenteritis':3,'Jaundice':4,'Malaria':5,'Dengue':6,'Typhoid':7,'Urinary tract infection':8}},inplace=True)\n",
    "X_test= tr[l1]\n",
    "y_test = tr[[\"prognosis\"]]\n",
    "np.ravel(y_test)\n",
    "print(X_test)"
   ]
  },
  {
   "cell_type": "code",
   "execution_count": 39,
   "id": "2e9d01e1-5b0c-447b-b58a-fcfc6eb9074b",
   "metadata": {},
   "outputs": [
    {
     "name": "stdout",
     "output_type": "stream",
     "text": [
      "Accuracy: 0.9833333333333333\n"
     ]
    }
   ],
   "source": [
    "from sklearn.tree import DecisionTreeClassifier\n",
    "from sklearn.metrics import accuracy_score\n",
    "\n",
    "\n",
    "# Create a Decision Tree Classifier\n",
    "clf = DecisionTreeClassifier()\n",
    "\n",
    "# Train the model\n",
    "clf=clf.fit(X, y)\n",
    "\n",
    "# Make predictions\n",
    "y_pred = clf.predict(X_test)\n",
    "\n",
    "# Evaluate the model\n",
    "accuracy = accuracy_score(y_test, y_pred)\n",
    "print(f\"Accuracy: {accuracy}\")\n"
   ]
  },
  {
   "cell_type": "code",
   "execution_count": 40,
   "id": "40e4a610-f384-474b-adef-0e76aa44f450",
   "metadata": {},
   "outputs": [],
   "source": [
    "import pickle\n",
    "\n",
    "# Saving classifier using pickle \n",
    "pickle.dump(clf, open(\"disease_prediction.pkl\", 'wb')) \n"
   ]
  },
  {
   "cell_type": "code",
   "execution_count": 41,
   "id": "31de8bf0-5abb-48be-abf5-236ff3f9cbf5",
   "metadata": {},
   "outputs": [],
   "source": [
    "# load classifier using pickle \n",
    "my_model_clf = pickle.load(open(\"disease_prediction.pkl\", 'rb')) "
   ]
  },
  {
   "cell_type": "code",
   "execution_count": 42,
   "id": "1d62c384-6468-4923-8216-05e0ec6fffa9",
   "metadata": {},
   "outputs": [],
   "source": [
    "from flask import Flask, render_template, request"
   ]
  },
  {
   "cell_type": "code",
   "execution_count": 43,
   "metadata": {},
   "outputs": [],
   "source": [
    "app=Flask(__name__)"
   ]
  },
  {
   "cell_type": "code",
   "execution_count": 44,
   "metadata": {},
   "outputs": [],
   "source": [
    "@app.route('/')\n",
    "def home():\n",
    "    return render_template('index.html')"
   ]
  },
  {
   "cell_type": "code",
   "execution_count": 45,
   "metadata": {},
   "outputs": [],
   "source": [
    "@app.route('/predict', methods=['POST'])\n",
    "def predictt():\n",
    "\n",
    "    s1 = int(request.form.get('1'))\n",
    "    s2 = int(request.form.get('2'))\n",
    "    s3 = int(request.form.get('3'))\n",
    "    s4 = int(request.form.get('4'))\n",
    "    s5 = int(request.form.get('5'))\n",
    "    print(s1,s2,s3,s4,s5)\n",
    "\n",
    "    lst = [0] * 95\n",
    "\n",
    "    lst[s1] = 1\n",
    "    lst[s2] = 1\n",
    "    lst[s3] = 1\n",
    "    lst[s4] = 1\n",
    "    lst[s5] = 1\n",
    "\n",
    "    l = [lst]\n",
    "    print(l)\n",
    "\n",
    "    pred = clf.predict(l)\n",
    "    print(pred)\n",
    "    return render_template('index.html', label = pred+1)  \n",
    "    # return \"The prediction is \" + pred"
   ]
  },
  {
   "cell_type": "code",
   "execution_count": 46,
   "metadata": {},
   "outputs": [
    {
     "name": "stdout",
     "output_type": "stream",
     "text": [
      " * Serving Flask app '__main__'\n",
      " * Debug mode: off\n"
     ]
    },
    {
     "name": "stderr",
     "output_type": "stream",
     "text": [
      "WARNING: This is a development server. Do not use it in a production deployment. Use a production WSGI server instead.\n",
      " * Running on http://localhost:8081\n",
      "Press CTRL+C to quit\n"
     ]
    }
   ],
   "source": [
    "if __name__ == '__main__':\n",
    "    app.run(host='localhost', port=8081)"
   ]
  },
  {
   "cell_type": "code",
   "execution_count": null,
   "metadata": {},
   "outputs": [],
   "source": []
  }
 ],
 "metadata": {
  "kernelspec": {
   "display_name": "Python 3 (ipykernel)",
   "language": "python",
   "name": "python3"
  },
  "language_info": {
   "codemirror_mode": {
    "name": "ipython",
    "version": 3
   },
   "file_extension": ".py",
   "mimetype": "text/x-python",
   "name": "python",
   "nbconvert_exporter": "python",
   "pygments_lexer": "ipython3",
   "version": "3.11.0"
  }
 },
 "nbformat": 4,
 "nbformat_minor": 5
}
